{
  "nbformat": 4,
  "nbformat_minor": 0,
  "metadata": {
    "colab": {
      "provenance": [],
      "include_colab_link": true
    },
    "kernelspec": {
      "name": "python3",
      "display_name": "Python 3"
    },
    "language_info": {
      "name": "python"
    }
  },
  "cells": [
    {
      "cell_type": "markdown",
      "metadata": {
        "id": "view-in-github",
        "colab_type": "text"
      },
      "source": [
        "<a href=\"https://colab.research.google.com/github/yasnilamw/MSIB-K2-KelasAwanPintar/blob/main/15_10_24Latihan_statistical_test_Diaz.ipynb\" target=\"_parent\"><img src=\"https://colab.research.google.com/assets/colab-badge.svg\" alt=\"Open In Colab\"/></a>"
      ]
    },
    {
      "cell_type": "markdown",
      "metadata": {
        "id": "cNzIDuWSmDgM"
      },
      "source": [
        "# Materi Tambahan Kasus Uji Beda\n",
        "Sebuah lembaga pelatihan bahasa inggris ingin mengetahui apakah pelatihan mereka berhasil meningkatkan skor TOEFL pesertanya. Mereka lalu menganalisa skor TOEFL sebelum dan sesudah pelatihan. Dengan tingkat kepercayaan 95%, apakah pelatihan ini berhasil?\n",
        "\n",
        "![alt text](https://drive.google.com/uc?id=1QN1HbirK1jx5hwlFVEGJUHM64GNjuS1p)\n",
        "\n",
        "\n"
      ]
    },
    {
      "cell_type": "code",
      "metadata": {
        "id": "JuDgnkw0l419"
      },
      "source": [
        "#Library\n",
        "import pandas as pd\n",
        "import numpy as np\n",
        "from scipy import stats\n",
        "from sklearn.preprocessing import MinMaxScaler\n",
        "from sklearn.preprocessing import StandardScaler\n",
        "from sklearn.feature_selection import SelectKBest, f_classif\n",
        "from sklearn.model_selection import train_test_split\n",
        "import time\n",
        "from sklearn.neighbors import KNeighborsClassifier\n",
        "from sklearn import metrics\n",
        "from sklearn.decomposition import PCA\n",
        "from sklearn.discriminant_analysis import LinearDiscriminantAnalysis\n",
        "import matplotlib.pyplot as plt\n",
        "%matplotlib inline"
      ],
      "execution_count": null,
      "outputs": []
    },
    {
      "cell_type": "markdown",
      "metadata": {
        "id": "enm1JfVqwg2n"
      },
      "source": [
        "Membuat hipotesis\n",
        "\n",
        "Ho : Nilai TOEFL sesudah pelatihan <= sebelum pelatihan\n",
        "\n",
        "Ha : Nilai TOEFL sesudah pelatihan > sebelum pelatihan"
      ]
    },
    {
      "cell_type": "code",
      "metadata": {
        "colab": {
          "base_uri": "https://localhost:8080/",
          "height": 419
        },
        "id": "AgVflauDwvgS",
        "outputId": "d9a102bc-ddef-43c4-b491-ba1e1631012d"
      },
      "source": [
        "toefl = pd.read_csv('skor_toefl.csv')\n",
        "toefl"
      ],
      "execution_count": null,
      "outputs": [
        {
          "output_type": "execute_result",
          "data": {
            "text/html": [
              "<div>\n",
              "<style scoped>\n",
              "    .dataframe tbody tr th:only-of-type {\n",
              "        vertical-align: middle;\n",
              "    }\n",
              "\n",
              "    .dataframe tbody tr th {\n",
              "        vertical-align: top;\n",
              "    }\n",
              "\n",
              "    .dataframe thead th {\n",
              "        text-align: right;\n",
              "    }\n",
              "</style>\n",
              "<table border=\"1\" class=\"dataframe\">\n",
              "  <thead>\n",
              "    <tr style=\"text-align: right;\">\n",
              "      <th></th>\n",
              "      <th>Sebelum</th>\n",
              "      <th>Sesudah</th>\n",
              "    </tr>\n",
              "  </thead>\n",
              "  <tbody>\n",
              "    <tr>\n",
              "      <th>0</th>\n",
              "      <td>429</td>\n",
              "      <td>569</td>\n",
              "    </tr>\n",
              "    <tr>\n",
              "      <th>1</th>\n",
              "      <td>443</td>\n",
              "      <td>599</td>\n",
              "    </tr>\n",
              "    <tr>\n",
              "      <th>2</th>\n",
              "      <td>408</td>\n",
              "      <td>612</td>\n",
              "    </tr>\n",
              "    <tr>\n",
              "      <th>3</th>\n",
              "      <td>459</td>\n",
              "      <td>536</td>\n",
              "    </tr>\n",
              "    <tr>\n",
              "      <th>4</th>\n",
              "      <td>401</td>\n",
              "      <td>572</td>\n",
              "    </tr>\n",
              "    <tr>\n",
              "      <th>...</th>\n",
              "      <td>...</td>\n",
              "      <td>...</td>\n",
              "    </tr>\n",
              "    <tr>\n",
              "      <th>94</th>\n",
              "      <td>496</td>\n",
              "      <td>552</td>\n",
              "    </tr>\n",
              "    <tr>\n",
              "      <th>95</th>\n",
              "      <td>413</td>\n",
              "      <td>544</td>\n",
              "    </tr>\n",
              "    <tr>\n",
              "      <th>96</th>\n",
              "      <td>400</td>\n",
              "      <td>531</td>\n",
              "    </tr>\n",
              "    <tr>\n",
              "      <th>97</th>\n",
              "      <td>471</td>\n",
              "      <td>561</td>\n",
              "    </tr>\n",
              "    <tr>\n",
              "      <th>98</th>\n",
              "      <td>443</td>\n",
              "      <td>588</td>\n",
              "    </tr>\n",
              "  </tbody>\n",
              "</table>\n",
              "<p>99 rows × 2 columns</p>\n",
              "</div>"
            ],
            "text/plain": [
              "    Sebelum  Sesudah\n",
              "0       429      569\n",
              "1       443      599\n",
              "2       408      612\n",
              "3       459      536\n",
              "4       401      572\n",
              "..      ...      ...\n",
              "94      496      552\n",
              "95      413      544\n",
              "96      400      531\n",
              "97      471      561\n",
              "98      443      588\n",
              "\n",
              "[99 rows x 2 columns]"
            ]
          },
          "metadata": {},
          "execution_count": 5
        }
      ]
    },
    {
      "cell_type": "markdown",
      "metadata": {
        "id": "d4_pQVkuxfMk"
      },
      "source": [
        "Menentukan uji statistik\n",
        "\n",
        "![alt text](https://drive.google.com/uc?id=1asHY6TCNsltT7O8H6CmlEqQxQPgKH-6d)\n",
        "\n",
        "Meski datanya ada 2, namun masih dari orang yang sama sehingga termasuk uji beda 2 kelompok berhubungan. Datanya numerik dan jumlahnya juga cukup banyak sehingga menurut teorema limit pusat yang dibahas minggu lalu, distribusi datanya mendekati normal. Menurut tabel diatas, uji statistik yang sesuai adalah \"paired sample t-test\". Di python uji ini tersedia di scipy.stats dengan nama \"ttest_rel\""
      ]
    },
    {
      "cell_type": "code",
      "metadata": {
        "colab": {
          "base_uri": "https://localhost:8080/"
        },
        "id": "i20ZTsqdw6J6",
        "outputId": "5bf57a1c-9923-4efd-95b5-e06a1b33cfb7"
      },
      "source": [
        "#Melakukan uji t\n",
        "uji_t = stats.ttest_rel(toefl['Sesudah'], toefl['Sebelum']) #hasilnya: (statistik hitungnya (t-hitung), pvalue)\n",
        "print('nilai t-hitung = ', uji_t[0])\n",
        "print('nilai p-value = ', uji_t[1])"
      ],
      "execution_count": null,
      "outputs": [
        {
          "output_type": "stream",
          "name": "stdout",
          "text": [
            "nilai t-hitung =  30.255038012916643\n",
            "nilai p-value =  1.638101871655264e-51\n"
          ]
        }
      ]
    },
    {
      "cell_type": "markdown",
      "metadata": {
        "id": "FydGBAmq0LyY"
      },
      "source": [
        "Berdasarkan hasil diatas, p-value = 1,6 x 10^(-51) < alpha (5%). Maka Ho ditolak, terdapat peningkatan yang signifikan dari TOEFL bahasa Inggris peserta pelatihan"
      ]
    },
    {
      "cell_type": "markdown",
      "metadata": {
        "id": "sK7u1bocmQas"
      },
      "source": [
        "Apa yang dapat kamu simpulkan dari uji hipotesa?"
      ]
    },
    {
      "cell_type": "code",
      "source": [
        "Hipotesis nol (Ho): Nilai TOEFL setelah pelatihan kurang dari atau sama dengan sebelum pelatihan.\n",
        "Hipotesis alternatif (Ha): Nilai TOEFL setelah pelatihan lebih tinggi daripada sebelum pelatihan.\n",
        "Setelah dilakukan uji paired sample t-test, diperoleh:\n",
        "\n",
        "Nilai t-hitung: 30,255\n",
        "Nilai p-value: 1,638 × 10^(-51)\n",
        "Karena nilai p-value jauh lebih kecil dari tingkat signifikansi α (5%), maka Ho ditolak.\n",
        "Dengan demikian, terdapat peningkatan yang signifikan dalam skor TOEFL peserta setelah mengikuti pelatihan"
      ],
      "metadata": {
        "id": "g9s63zNd9L0X"
      },
      "execution_count": null,
      "outputs": []
    }
  ]
}