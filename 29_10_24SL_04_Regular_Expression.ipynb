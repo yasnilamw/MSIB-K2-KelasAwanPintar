{
  "nbformat": 4,
  "nbformat_minor": 0,
  "metadata": {
    "colab": {
      "provenance": [],
      "include_colab_link": true
    },
    "kernelspec": {
      "name": "python3",
      "display_name": "Python 3"
    },
    "language_info": {
      "name": "python"
    },
    "accelerator": "GPU",
    "gpuClass": "standard"
  },
  "cells": [
    {
      "cell_type": "markdown",
      "metadata": {
        "id": "view-in-github",
        "colab_type": "text"
      },
      "source": [
        "<a href=\"https://colab.research.google.com/github/yasnilamw/MSIB-K2-KelasAwanPintar/blob/main/29_10_24SL_04_Regular_Expression.ipynb\" target=\"_parent\"><img src=\"https://colab.research.google.com/assets/colab-badge.svg\" alt=\"Open In Colab\"/></a>"
      ]
    },
    {
      "cell_type": "markdown",
      "source": [
        "## Regular Expression (Regex)\n",
        "> Library untuk pengenalan dan pengelolaan pola pada teks\n",
        ">\n",
        "\n",
        "Contoh implementasi:\n",
        "- Pola Email\n",
        "- Pola Nomor telepon\n",
        "- Pola url\n",
        "- Pola Nomor plat kendaraan bermotor\n",
        "- Menghilangkan karakter khusus pada teks\n",
        "- dll."
      ],
      "metadata": {
        "id": "V6uGozZv4e5K"
      }
    },
    {
      "cell_type": "markdown",
      "source": [
        "**Contoh Syntax dan Aturan-aturan pada class Regex**\n",
        "\n",
        "---\n",
        "Kelas Karakter\n",
        "---\n",
        "\n",
        "*   [ abc] = karakter a ,b atau c (kelas sederhana)\n",
        "*   [^abc] = kecuali karakter a ,b ,atau (negasi)\n",
        "*   [a-zA-Z] = karakter a sampai z huruf kecil , atau A sampai Z huruf besar ,(jarak)\n",
        "*   [a-z[x-y]] = karakter a sampai d ,atau m sampai p (a-xy-z : gabungan)\n",
        "*   [a-z0-9] = karakter a sampai z ,atau angka dari 0 sampai 9\n",
        "*   [a-z&&[^bc] = karakter a sampi z, kecuali untuk b dan c.\n",
        "\n",
        "---\n",
        "Meta Karakter\n",
        "---\n",
        "*   . = tanda titik ,yang berarti karakter apa saja\n",
        "*   \\d = angka digit apa saja:, seperti [0-9]\n",
        "*   \\D = selain angka digit : [^0-9]\n",
        "*   \\s = sebuah spasi pada kaarkter, seperti [ \\t\\n\\x0B\\f\\r]\n",
        "*   \\S = selain spasi pada karakter: [^\\s]\n",
        "*   \\w = huruf dan angka apa saja ,seperti [a-zA-Z_0-9]\n",
        "*   \\W = selain angka dan huruf ,[\\w]\n",
        "\n",
        "---\n",
        "Batasan Kecocokan Karakter\n",
        "---\n",
        "*   ^ = tanda awalan\n",
        "*   $ = tanda akhiran\n",
        "*   \\b = batasan kecocokan kata\n",
        "*   \\B = batasan kecocokan selain kata\n",
        "*   \\A = awalan untuk input text\n",
        "*   \\G = akhir dari kecocokan sebelumnya\n",
        "*   \\Z = akhir dari input text, kecuali final terminator jika ada\n",
        "*   \\z = akhir dari input text\n"
      ],
      "metadata": {
        "id": "oAlARrGQ4l-k"
      }
    },
    {
      "cell_type": "code",
      "execution_count": null,
      "metadata": {
        "id": "I1d9WoQ54eD_"
      },
      "outputs": [],
      "source": [
        "# Import Library Regex (re)\n",
        "import re\n",
        "\n",
        "# Pola Email\n",
        "email_pattern = re.compile(r'[\\w._%+-]+@[\\w\\.-]+\\.[a-zA-Z]{2,4}')\n",
        "txt = 'Contact kami di admin@thenextyunikorn.id, sales@yunikornbaru.com, atau hrd@yunikornindo.id'\n",
        "\n"
      ]
    },
    {
      "cell_type": "code",
      "source": [
        "txt"
      ],
      "metadata": {
        "colab": {
          "base_uri": "https://localhost:8080/",
          "height": 36
        },
        "id": "8tohi4k44f33",
        "outputId": "d2703428-7534-43f0-b765-11c3e95e5a4e"
      },
      "execution_count": null,
      "outputs": [
        {
          "output_type": "execute_result",
          "data": {
            "text/plain": [
              "'Contact kami di admin@thenextyunikorn.id, sales@yunikornbaru.com, atau hrd@yunikornindo.id'"
            ],
            "application/vnd.google.colaboratory.intrinsic+json": {
              "type": "string"
            }
          },
          "metadata": {},
          "execution_count": 2
        }
      ]
    },
    {
      "cell_type": "markdown",
      "source": [
        "### Pola Email"
      ],
      "metadata": {
        "id": "eL7ag9IU5UEt"
      }
    },
    {
      "cell_type": "code",
      "source": [
        "# Menghapus Email dalam teks\n",
        "print( re.sub(email_pattern, ' ', txt))"
      ],
      "metadata": {
        "colab": {
          "base_uri": "https://localhost:8080/"
        },
        "id": "dz1D6cCR5NsP",
        "outputId": "96dde140-5516-4536-f214-c7d315d4909a"
      },
      "execution_count": null,
      "outputs": [
        {
          "output_type": "stream",
          "name": "stdout",
          "text": [
            "Contact kami di  ,  , atau  \n"
          ]
        }
      ]
    },
    {
      "cell_type": "code",
      "source": [
        "# Mengambil email dari teks berdasarkan pola regex yang ditentukan\n",
        "emails = re.findall(email_pattern, txt)\n",
        "print( 'Email yang ditemukan: ', emails)"
      ],
      "metadata": {
        "colab": {
          "base_uri": "https://localhost:8080/"
        },
        "id": "0hgD0Vj25XKP",
        "outputId": "1932e408-54ee-49cd-f98d-db28f96fe205"
      },
      "execution_count": null,
      "outputs": [
        {
          "output_type": "stream",
          "name": "stdout",
          "text": [
            "Email yang ditemukan:  ['admin@thenextyunikorn.id', 'sales@yunikornbaru.com', 'hrd@yunikornindo.id']\n"
          ]
        }
      ]
    },
    {
      "cell_type": "markdown",
      "source": [
        "### Pola Nomor Telepon"
      ],
      "metadata": {
        "id": "EftUKvWl5iwt"
      }
    },
    {
      "cell_type": "code",
      "source": [
        "# Pola telephone : \\d penanda angka di reguler Expression, \\s spasi, dan \"|\" adalah \"atau\"\n",
        "# \"?\" menyatakan pilihan (optional)\n",
        "phone_pattern = re.compile(r'(\\d{3}[-\\.\\s]??\\d{3}[-\\.\\s]??\\d{4,6}|\\(\\d{3}\\)\\s*\\d{3}[-\\.\\s]??\\d{4,6}|\\d{3,4}[-\\.\\s]??\\d{4,6})')\n",
        "txt = 'Contact kami di 021-7632456 atau 021-443-4162 atau 021 797 4524 atau 0822959020 atau +628199258643'"
      ],
      "metadata": {
        "id": "5uLcON-Z5Z3X"
      },
      "execution_count": null,
      "outputs": []
    },
    {
      "cell_type": "code",
      "source": [
        "# Sensor *** untuk pola Nomor Telepon\n",
        "print(re.sub(phone_pattern,'***',txt))"
      ],
      "metadata": {
        "colab": {
          "base_uri": "https://localhost:8080/"
        },
        "id": "I3EyrkQJ5lyt",
        "outputId": "000967a0-5972-4ea4-d434-4d6eef3df97c"
      },
      "execution_count": null,
      "outputs": [
        {
          "output_type": "stream",
          "name": "stdout",
          "text": [
            "Contact kami di *** atau *** atau *** atau *** atau +***\n"
          ]
        }
      ]
    },
    {
      "cell_type": "code",
      "source": [
        "# Mengambil nomor telepon dari teks berdasarkan pola regex yang telah ditentukan\n",
        "phone_numbers = re.findall(phone_pattern,txt)\n",
        "print('Nomer telephone yang ditemukan: ', str(phone_numbers))"
      ],
      "metadata": {
        "colab": {
          "base_uri": "https://localhost:8080/"
        },
        "id": "7JRvMScm5ocU",
        "outputId": "5c5cc658-15f6-4d38-f36d-d80c6cbd80ef"
      },
      "execution_count": null,
      "outputs": [
        {
          "output_type": "stream",
          "name": "stdout",
          "text": [
            "Nomer telephone yang ditemukan:  ['021-7632456', '021-443-4162', '021 797 4524', '0822959020', '628199258643']\n"
          ]
        }
      ]
    },
    {
      "cell_type": "markdown",
      "source": [
        "###Pola URL atau Link"
      ],
      "metadata": {
        "id": "QX0TdMCy51Jo"
      }
    },
    {
      "cell_type": "code",
      "source": [
        "# Website URL http(s)\n",
        "url_pattern = re.compile(r'www|http:|https:+[^\\s]+[\\w]')\n",
        "txt = 'Teman teman dapat mengunjungi link berikut untuk sumber belajar: https://www.regular-expressions.info/ atau https://www.towardsdatascience.com atau https://wikipedia.org'\n"
      ],
      "metadata": {
        "id": "h4RUWsQ-5wvM"
      },
      "execution_count": null,
      "outputs": []
    },
    {
      "cell_type": "code",
      "source": [
        "# Menghapus url pada teks\n",
        "print(re.sub(url_pattern,' ',txt))"
      ],
      "metadata": {
        "colab": {
          "base_uri": "https://localhost:8080/"
        },
        "id": "6VPaWUE856EM",
        "outputId": "ed8693ef-009f-4059-9550-ad874c0ec08a"
      },
      "execution_count": null,
      "outputs": [
        {
          "output_type": "stream",
          "name": "stdout",
          "text": [
            "Teman teman dapat mengunjungi link berikut untuk sumber belajar:  / atau   atau  \n"
          ]
        }
      ]
    },
    {
      "cell_type": "code",
      "source": [
        "# Mengambil url dari teks berdasarkan pola regex yang telah ditentukan\n",
        "urls = re.findall(url_pattern,txt)# get urls\n",
        "print('URL yang ditemukan: ',str(urls))"
      ],
      "metadata": {
        "colab": {
          "base_uri": "https://localhost:8080/"
        },
        "id": "dNG7stdk58W4",
        "outputId": "69c34524-fcca-4684-f15e-1faed606f17e"
      },
      "execution_count": null,
      "outputs": [
        {
          "output_type": "stream",
          "name": "stdout",
          "text": [
            "URL yang ditemukan:  ['https://www.regular-expressions.info', 'https://www.towardsdatascience.com', 'https://wikipedia.org']\n"
          ]
        }
      ]
    },
    {
      "cell_type": "markdown",
      "source": [
        "### Pola Plat Kendaraan Bermotor"
      ],
      "metadata": {
        "id": "LNiEbH3S6CN7"
      }
    },
    {
      "cell_type": "code",
      "source": [
        "plat_pattern = re.compile(r'[A-Z]{1,2}\\s\\d{1,4}\\s[A-Z]{1,3}')\n",
        "text = \"Mr.X punya 2 motor dan 1 mobil. Adapun plat nomornya yaitu B 234 AA, C 3244 YGS, dan D 3 S.\""
      ],
      "metadata": {
        "id": "s4QddXbx5-iJ"
      },
      "execution_count": null,
      "outputs": []
    },
    {
      "cell_type": "code",
      "source": [
        "# Menghapus plat kendaraan pada teks\n",
        "print(re.sub(plat_pattern, ' ', text))"
      ],
      "metadata": {
        "colab": {
          "base_uri": "https://localhost:8080/"
        },
        "id": "OFNIAGqK6GD_",
        "outputId": "c162e296-4040-46a4-a9d4-5d65433b7a2c"
      },
      "execution_count": null,
      "outputs": [
        {
          "output_type": "stream",
          "name": "stdout",
          "text": [
            "Mr.X punya 2 motor dan 1 mobil. Adapun plat nomornya yaitu  ,  , dan  .\n"
          ]
        }
      ]
    },
    {
      "cell_type": "code",
      "source": [
        "kumpulan_plat_kendaraan = re.findall(plat_pattern, text)\n",
        "print(kumpulan_plat_kendaraan)"
      ],
      "metadata": {
        "colab": {
          "base_uri": "https://localhost:8080/"
        },
        "id": "hKLvdOf86Ia0",
        "outputId": "a6240790-3647-4ec4-efdf-a1ac6b3a71f4"
      },
      "execution_count": null,
      "outputs": [
        {
          "output_type": "stream",
          "name": "stdout",
          "text": [
            "['B 234 AA', 'C 3244 YGS', 'D 3 S']\n"
          ]
        }
      ]
    },
    {
      "cell_type": "markdown",
      "source": [
        "### Menghilangkan Karakter Khusus"
      ],
      "metadata": {
        "id": "dko-Vzwk6RmO"
      }
    },
    {
      "cell_type": "code",
      "source": [
        "text = \"Halo @Orbit, apa kabar? #SapaKawan.\"\n",
        "result = re.sub(r'[@,.?#]', '', text)\n",
        "print(result)"
      ],
      "metadata": {
        "colab": {
          "base_uri": "https://localhost:8080/"
        },
        "id": "cQx-_U-m6LLV",
        "outputId": "c49aa161-cbca-4a83-d09d-3fc6389bd3b8"
      },
      "execution_count": null,
      "outputs": [
        {
          "output_type": "stream",
          "name": "stdout",
          "text": [
            "Halo Orbit apa kabar SapaKawan\n"
          ]
        }
      ]
    },
    {
      "cell_type": "markdown",
      "source": [
        "##Buat dipelajari tidak usah dikumpulkan!\n",
        "##FYI: **Just challenge ur knowledge**\n",
        "## Self-Activity 1\n",
        "**TEXT:**\n",
        "> Halo semua, namaku Andy Joe. Kemarin smartphoneku mendapat SMS tagihan Pinjaman Online dari nomor 08004398499. Selain itu emailku juga mendapatkan pesan serupa dari debtcollector@pinjolninuninu.com. Ternyata salah satu temanku menjadikan nomor telepon dan emailku sebagai penanggungjawab pinjaman onlinenya :(. Tak lama sosok pria berbadan bongsor datang ke rumahku dengan menggunakan mogenya. Ia menanyakan keberadaan temanku yang meminjam uang di perusahaan Pinjol tersebut. Aku yang tak tahu keberadaannya pun menjawab apa adanya. Tak lama kemudian pria tersebut pergi dan segera kuambil gambar mogenya dengan  plat PO 3030 AY. Setelah itu aku menghubungi temanku dan meminta penjelasan kepadanya.\n",
        ">\n",
        "---\n",
        "### Buatlah format pesan kepada teman Andy Joe untuk meminta penjelasan terkait dengan situasi yang sedang terjadi. (ganti teks yang cetak miring dan tebal menjadi nomor debtcollector, email debtcollector dan plat nomor)\n",
        ">\n",
        "\n",
        "**Format Pesan:**\n",
        "> \"*Halo xxxxx, Aku tadi habis didatangi debtcollector. Dia mengirimiku pesan lewat nomornya yaitu **nomor_debtcollector** dan email **email_debtcollector**. Dia bilang kamu jadiin nomorku dan emailku sebagai penanggungjawab. Bisa tolong jelasin? Terus aku tadi juga sempet foto motor yg dipake mas debtcollector. Plat nomornya **plat_nomor_debtcollector**.*\""
      ],
      "metadata": {
        "id": "xvvlUt1l6vu6"
      }
    },
    {
      "cell_type": "markdown",
      "source": [
        "## Self-Activity 2\n",
        "1. Buat Webscraping dan Crawling dari website berbeda selain warstek\n",
        "2. lakukan RegEx dari hasil Scraping\n",
        "3. visualisasikan kedalam dataframe dari hasil webscraping dan crawling\n",
        "4. Buat Data JSON untuk Chatbot resep makanan khas daerah teman-teman"
      ],
      "metadata": {
        "id": "JXuTglwVH1FC"
      }
    },
    {
      "cell_type": "code",
      "source": [
        "nomor_debtcollector = \"08004398499\"\n",
        "email_debtcollector = \"debtcollector@pinjolninuninu.com\"\n",
        "plat_moge = \"PO 3030 AY\"\n",
        "nama_teman = \"[Nama Teman]\"\n",
        "\n",
        "pesan = f\"\"\"\n",
        "Halo {nama_teman},\n",
        "\n",
        "Aku baru saja menerima SMS dari nomor **{nomor_debtcollector}** dan email dari **{email_debtcollector}** yang katanya berisi tagihan pinjaman online atas nama kamu. Selain itu, tadi juga ada pria berbadan bongsor datang ke rumahku, naik motor gede dengan plat nomor **{plat_moge}**. Dia tanya soal keberadaanmu, tapi aku jawab sejujurnya kalau aku nggak tahu.\n",
        "\n",
        "Ini masalah serius, dan aku butuh penjelasan darimu. Kenapa aku jadi terlibat seperti ini? Mohon segera klarifikasi atau berikan langkah-langkah yang perlu aku lakukan agar situasi ini cepat terselesaikan.\n",
        "\n",
        "Terima kasih.\n",
        "\"\"\"\n",
        "\n",
        "print(pesan)"
      ],
      "metadata": {
        "id": "otv3T1NU6UJM",
        "colab": {
          "base_uri": "https://localhost:8080/"
        },
        "outputId": "4e85225f-ffb2-4e3b-bdb5-b012459ff8ef"
      },
      "execution_count": null,
      "outputs": [
        {
          "output_type": "stream",
          "name": "stdout",
          "text": [
            "\n",
            "Halo [Nama Teman],\n",
            "\n",
            "Aku baru saja menerima SMS dari nomor **08004398499** dan email dari **debtcollector@pinjolninuninu.com** yang katanya berisi tagihan pinjaman online atas nama kamu. Selain itu, tadi juga ada pria berbadan bongsor datang ke rumahku, naik motor gede dengan plat nomor **PO 3030 AY**. Dia tanya soal keberadaanmu, tapi aku jawab sejujurnya kalau aku nggak tahu.\n",
            "\n",
            "Ini masalah serius, dan aku butuh penjelasan darimu. Kenapa aku jadi terlibat seperti ini? Mohon segera klarifikasi atau berikan langkah-langkah yang perlu aku lakukan agar situasi ini cepat terselesaikan.\n",
            "\n",
            "Terima kasih.\n",
            "\n"
          ]
        }
      ]
    },
    {
      "cell_type": "code",
      "source": [
        "{\n",
        "  \"recipes\": [\n",
        "    {\n",
        "      \"name\": \"Nasi Liwet\",\n",
        "      \"description\": \"Nasi liwet adalah nasi gurih khas Sunda yang dimasak dengan santan dan rempah, sering disajikan dengan ikan asin, ayam, dan sayuran.\",\n",
        "      \"ingredients\": [\n",
        "        \"300 gram beras\",\n",
        "        \"400 ml air\",\n",
        "        \"200 ml santan\",\n",
        "        \"1 batang serai, memarkan\",\n",
        "        \"2 lembar daun salam\",\n",
        "        \"2 lembar daun jeruk\",\n",
        "        \"1 sendok teh garam\"\n",
        "      ],\n",
        "      \"steps\": [\n",
        "        \"Cuci beras hingga bersih.\",\n",
        "        \"Masukkan beras, air, santan, serai, daun salam, daun jeruk, dan garam ke dalam rice cooker atau panci.\",\n",
        "        \"Masak hingga nasi matang dan bumbu meresap.\",\n",
        "        \"Setelah matang, angkat dan sajikan nasi liwet dengan lauk pendamping.\"\n",
        "      ]\n",
        "    },\n",
        "    {\n",
        "      \"name\": \"Karedok\",\n",
        "      \"description\": \"Karedok adalah salad sayuran khas Sunda dengan bumbu kacang yang segar dan pedas.\",\n",
        "      \"ingredients\": [\n",
        "        \"100 gram kacang panjang, potong kecil\",\n",
        "        \"100 gram tauge\",\n",
        "        \"50 gram kol, iris halus\",\n",
        "        \"1 buah mentimun, iris tipis\",\n",
        "        \"5 lembar daun kemangi\"\n",
        "      ],\n",
        "      \"steps\": [\n",
        "        \"Siapkan sayuran, cuci bersih dan tiriskan.\",\n",
        "        \"Haluskan bumbu kacang, lalu campur dengan sayuran.\",\n",
        "        \"Aduk rata dan sajikan.\"\n",
        "      ],\n",
        "      \"bumbu_kacang\": {\n",
        "        \"ingredients\": [\n",
        "          \"100 gram kacang tanah, goreng\",\n",
        "          \"3 siung bawang putih\",\n",
        "          \"5 buah cabai rawit merah\",\n",
        "          \"2 cm kencur\",\n",
        "          \"1 sendok teh gula merah\",\n",
        "          \"1 sendok teh garam\",\n",
        "          \"100 ml air matang\"\n",
        "        ],\n",
        "        \"steps\": [\n",
        "          \"Haluskan semua bahan bumbu kacang hingga lembut.\",\n",
        "          \"Tambahkan air sedikit demi sedikit hingga konsistensi bumbu cukup kental.\"\n",
        "        ]\n",
        "      }\n",
        "    },\n",
        "    {\n",
        "      \"name\": \"Lotek\",\n",
        "      \"description\": \"Lotek adalah hidangan khas Sunda yang mirip dengan gado-gado, terdiri dari sayuran rebus yang disajikan dengan bumbu kacang.\",\n",
        "      \"ingredients\": [\n",
        "        \"100 gram kacang panjang\",\n",
        "        \"100 gram tauge\",\n",
        "        \"50 gram kol\",\n",
        "        \"100 gram bayam\",\n",
        "        \"1 buah ketimun, iris\"\n",
        "      ],\n",
        "      \"steps\": [\n",
        "        \"Rebus semua sayuran hingga setengah matang, lalu tiriskan.\",\n",
        "        \"Haluskan bumbu kacang, campurkan dengan sayuran rebus.\",\n",
        "        \"Sajikan lotek dengan tambahan lontong atau ketupat jika diinginkan.\"\n",
        "      ],\n",
        "      \"bumbu_kacang\": {\n",
        "        \"ingredients\": [\n",
        "          \"100 gram kacang tanah, goreng\",\n",
        "          \"3 siung bawang putih\",\n",
        "          \"5 buah cabai merah\",\n",
        "          \"1 sendok teh gula merah\",\n",
        "          \"1 sendok teh garam\",\n",
        "          \"100 ml air matang\"\n",
        "        ],\n",
        "        \"steps\": [\n",
        "          \"Haluskan semua bahan bumbu kacang hingga lembut.\",\n",
        "          \"Tambahkan air sedikit demi sedikit hingga bumbu bertekstur kental.\"\n",
        "        ]\n",
        "      }\n",
        "    }\n",
        "  ]\n",
        "}\n"
      ],
      "metadata": {
        "colab": {
          "base_uri": "https://localhost:8080/"
        },
        "id": "ZDfJyNpbSMGy",
        "outputId": "bfe22431-b9a3-4685-c117-b0b5c3fe105f"
      },
      "execution_count": null,
      "outputs": [
        {
          "output_type": "execute_result",
          "data": {
            "text/plain": [
              "{'recipes': [{'name': 'Nasi Liwet',\n",
              "   'description': 'Nasi liwet adalah nasi gurih khas Sunda yang dimasak dengan santan dan rempah, sering disajikan dengan ikan asin, ayam, dan sayuran.',\n",
              "   'ingredients': ['300 gram beras',\n",
              "    '400 ml air',\n",
              "    '200 ml santan',\n",
              "    '1 batang serai, memarkan',\n",
              "    '2 lembar daun salam',\n",
              "    '2 lembar daun jeruk',\n",
              "    '1 sendok teh garam'],\n",
              "   'steps': ['Cuci beras hingga bersih.',\n",
              "    'Masukkan beras, air, santan, serai, daun salam, daun jeruk, dan garam ke dalam rice cooker atau panci.',\n",
              "    'Masak hingga nasi matang dan bumbu meresap.',\n",
              "    'Setelah matang, angkat dan sajikan nasi liwet dengan lauk pendamping.']},\n",
              "  {'name': 'Karedok',\n",
              "   'description': 'Karedok adalah salad sayuran khas Sunda dengan bumbu kacang yang segar dan pedas.',\n",
              "   'ingredients': ['100 gram kacang panjang, potong kecil',\n",
              "    '100 gram tauge',\n",
              "    '50 gram kol, iris halus',\n",
              "    '1 buah mentimun, iris tipis',\n",
              "    '5 lembar daun kemangi'],\n",
              "   'steps': ['Siapkan sayuran, cuci bersih dan tiriskan.',\n",
              "    'Haluskan bumbu kacang, lalu campur dengan sayuran.',\n",
              "    'Aduk rata dan sajikan.'],\n",
              "   'bumbu_kacang': {'ingredients': ['100 gram kacang tanah, goreng',\n",
              "     '3 siung bawang putih',\n",
              "     '5 buah cabai rawit merah',\n",
              "     '2 cm kencur',\n",
              "     '1 sendok teh gula merah',\n",
              "     '1 sendok teh garam',\n",
              "     '100 ml air matang'],\n",
              "    'steps': ['Haluskan semua bahan bumbu kacang hingga lembut.',\n",
              "     'Tambahkan air sedikit demi sedikit hingga konsistensi bumbu cukup kental.']}},\n",
              "  {'name': 'Lotek',\n",
              "   'description': 'Lotek adalah hidangan khas Sunda yang mirip dengan gado-gado, terdiri dari sayuran rebus yang disajikan dengan bumbu kacang.',\n",
              "   'ingredients': ['100 gram kacang panjang',\n",
              "    '100 gram tauge',\n",
              "    '50 gram kol',\n",
              "    '100 gram bayam',\n",
              "    '1 buah ketimun, iris'],\n",
              "   'steps': ['Rebus semua sayuran hingga setengah matang, lalu tiriskan.',\n",
              "    'Haluskan bumbu kacang, campurkan dengan sayuran rebus.',\n",
              "    'Sajikan lotek dengan tambahan lontong atau ketupat jika diinginkan.'],\n",
              "   'bumbu_kacang': {'ingredients': ['100 gram kacang tanah, goreng',\n",
              "     '3 siung bawang putih',\n",
              "     '5 buah cabai merah',\n",
              "     '1 sendok teh gula merah',\n",
              "     '1 sendok teh garam',\n",
              "     '100 ml air matang'],\n",
              "    'steps': ['Haluskan semua bahan bumbu kacang hingga lembut.',\n",
              "     'Tambahkan air sedikit demi sedikit hingga bumbu bertekstur kental.']}}]}"
            ]
          },
          "metadata": {},
          "execution_count": 1
        }
      ]
    }
  ]
}